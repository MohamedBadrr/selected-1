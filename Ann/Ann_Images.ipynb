{
 "cells": [
  {
   "cell_type": "code",
   "execution_count": 1,
   "metadata": {
    "scrolled": true
   },
   "outputs": [
    {
     "name": "stderr",
     "output_type": "stream",
     "text": [
      "100%|█████████████████████████████████████████████████████████████████████████████| 1010/1010 [00:04<00:00, 235.28it/s]\n",
      "100%|█████████████████████████████████████████████████████████████████████████████| 1010/1010 [00:04<00:00, 250.97it/s]\n",
      "100%|█████████████████████████████████████████████████████████████████████████████| 1010/1010 [00:04<00:00, 237.33it/s]\n",
      "100%|█████████████████████████████████████████████████████████████████████████████| 1016/1016 [00:04<00:00, 222.17it/s]\n",
      "100%|█████████████████████████████████████████████████████████████████████████████| 1010/1010 [00:04<00:00, 234.23it/s]\n",
      "100%|█████████████████████████████████████████████████████████████████████████████| 1010/1010 [00:04<00:00, 239.11it/s]\n",
      "100%|█████████████████████████████████████████████████████████████████████████████| 1009/1009 [00:04<00:00, 232.29it/s]\n",
      "100%|█████████████████████████████████████████████████████████████████████████████| 1008/1008 [00:04<00:00, 242.81it/s]\n",
      "100%|█████████████████████████████████████████████████████████████████████████████| 1010/1010 [00:04<00:00, 222.99it/s]\n",
      "100%|█████████████████████████████████████████████████████████████████████████████| 1010/1010 [00:04<00:00, 246.23it/s]\n",
      "100%|█████████████████████████████████████████████████████████████████████████████| 1008/1008 [00:03<00:00, 260.79it/s]\n",
      "100%|█████████████████████████████████████████████████████████████████████████████| 1008/1008 [00:04<00:00, 245.66it/s]\n",
      "100%|█████████████████████████████████████████████████████████████████████████████| 1008/1008 [00:04<00:00, 243.30it/s]\n",
      "100%|█████████████████████████████████████████████████████████████████████████████| 1008/1008 [00:05<00:00, 197.02it/s]\n",
      "100%|█████████████████████████████████████████████████████████████████████████████| 1008/1008 [00:04<00:00, 239.43it/s]\n",
      "100%|█████████████████████████████████████████████████████████████████████████████| 1007/1007 [00:04<00:00, 236.07it/s]\n",
      "100%|█████████████████████████████████████████████████████████████████████████████| 1011/1011 [00:03<00:00, 255.50it/s]\n"
     ]
    }
   ],
   "source": [
    "import numpy as np\n",
    "import pandas as pd\n",
    "import tensorflow as tf\n",
    "import matplotlib.pyplot as plt\n",
    "import pickle\n",
    "from sklearn.model_selection import train_test_split\n",
    "import random\n",
    "import os\n",
    "import cv2\n",
    "from tqdm import tqdm\n",
    "\n",
    "DATADIR = \"E:\\\\UNIVERSIY\\\\PROJECTS\\\\LEVEL_3\\\\First_Term\\\\SeLected\\\\dataset\\\\English\\\\Fnt\\\\train\"\n",
    "# DATADIR = \"E:\\ProjectSelected\\English\\Fnt\"\n",
    "\n",
    "CATEGORIES = [\"Sample001\",\"Sample002\",\"Sample003\",\"Sample004\",\"Sample005\",\"Sample006\",\n",
    "              \"Sample007\",\"Sample008\",\"Sample009\",\"Sample010\",\"Sample019\",\"Sample020\",\"Sample021\",\"Sample022\"\n",
    "             ,\"Sample023\",\"Sample024\",'Sample042']\n",
    "\n",
    "training_data = []\n",
    "IMG_SIZE = 75\n",
    "\n",
    "\n",
    "def create_training_data():\n",
    "    for category in CATEGORIES:  \n",
    "\n",
    "        path = os.path.join(DATADIR, category)  # create path to classes\n",
    "        class_num = CATEGORIES.index(category)  # get the classification\n",
    "        # tqdm : عشان تظهر الخط الاحمر دا ف تحميل الداتا اشوفها وهيبتحمل \n",
    "        for img in tqdm(os.listdir(path)):  # iterate over each image per class\n",
    "            try:\n",
    "                img_array = cv2.imread(os.path.join(path, img), cv2.IMREAD_GRAYSCALE)  # convert to array\n",
    "                new_array = cv2.resize(img_array, (IMG_SIZE, IMG_SIZE))  # resize to normalize data size\n",
    "                training_data.append([new_array, class_num])  # add this to our training_data\n",
    "            # except Exception as e:  # in the interest in keeping the output clean...\n",
    "            #     pass\n",
    "            except Exeption as e:\n",
    "                pass\n",
    "\n",
    "\n",
    "create_training_data()\n"
   ]
  },
  {
   "cell_type": "code",
   "execution_count": 2,
   "metadata": {},
   "outputs": [
    {
     "name": "stdout",
     "output_type": "stream",
     "text": [
      "17161\n"
     ]
    }
   ],
   "source": [
    "print(len(training_data))"
   ]
  },
  {
   "cell_type": "code",
   "execution_count": 3,
   "metadata": {},
   "outputs": [],
   "source": [
    "#randome the dataset for good training\n",
    "random.shuffle(training_data)\n",
    "X = []\n",
    "y = []\n",
    "\n",
    "#build input (x) , output (y) arrays\n",
    "for features, label in training_data:\n",
    "    X.append(features)\n",
    "    y.append(label)\n",
    "\n",
    "X=np.array(X).reshape(-1,IMG_SIZE,IMG_SIZE,1)\n",
    "X_train_full, X_test, y_train_full, y_test = train_test_split(X, y, test_size = 0.2, random_state = 0)\n",
    "#data normalization\n",
    "X_valid, X_train = X_train_full[:2700] / 255., X_train_full[2700:]/255.\n",
    "y_valid, y_train = y_train_full[:2700], y_train_full[2700:]\n",
    "X_test = X_test / 255.\n",
    "\n",
    "X_train= np.asarray(X_train)\n",
    "y_train = np.asarray(y_train)\n",
    "X_valid = np.asarray(X_valid)\n",
    "y_valid = np.asarray(y_valid)\n",
    "X_test = np.asarray(X_test)\n",
    "y_test = np.asarray(y_test)\n",
    "\n",
    "#save the dataset so that we don't need to keep calculating it every time we want\n"
   ]
  },
  {
   "cell_type": "code",
   "execution_count": 4,
   "metadata": {},
   "outputs": [],
   "source": [
    "data = {\"0\" : 0,\"1\" : 1 ,\"2\" :2 ,\"3\" : 3,\"4\" : 4,\"5\" : 5,\n",
    "              \"6\" : 6,\"7\" : 7,\"8\" : 8,\"9\" :9,\"i\" : 10, \"j\" : 11,\"k\" : 12,\"L\":13\n",
    "             ,\"M\" : 14,\"N\":15 , 'F':16 }\n"
   ]
  },
  {
   "cell_type": "code",
   "execution_count": 5,
   "metadata": {},
   "outputs": [],
   "source": [
    "def getclass (n):\n",
    "    for x,y in data.items():\n",
    "         if n==y :\n",
    "            return x"
   ]
  },
  {
   "cell_type": "code",
   "execution_count": 6,
   "metadata": {},
   "outputs": [
    {
     "name": "stdout",
     "output_type": "stream",
     "text": [
      "F\n"
     ]
    }
   ],
   "source": [
    "print(getclass(16))"
   ]
  },
  {
   "cell_type": "code",
   "execution_count": 7,
   "metadata": {},
   "outputs": [],
   "source": [
    "# load data in pickle\n",
    "import pickle\n",
    "pickle_out=open(\"X.pickle\",\"wb\")\n",
    "pickle.dump(X, pickle_out)\n",
    "pickle_out.close()\n",
    "\n",
    "pickle_out=open(\"y.pickle\",\"wb\")\n",
    "pickle.dump(y, pickle_out)\n",
    "pickle_out.close()\n"
   ]
  },
  {
   "cell_type": "code",
   "execution_count": 8,
   "metadata": {},
   "outputs": [],
   "source": [
    "# load the dataset\n",
    "pickle_in = open(\"X.pickle\",\"rb\")\n",
    "X = pickle.load(pickle_in)\n",
    "\n",
    "pickle_in = open(\"y.pickle\",\"rb\")\n",
    "y = pickle.load(pickle_in)\n"
   ]
  },
  {
   "cell_type": "code",
   "execution_count": 9,
   "metadata": {},
   "outputs": [
    {
     "name": "stdout",
     "output_type": "stream",
     "text": [
      "Epoch 1/20\n",
      "345/345 [==============================] - 19s 55ms/step - loss: 1.2209 - accuracy: 0.6568 - val_loss: 0.6471 - val_accuracy: 0.8181\n",
      "Epoch 2/20\n",
      "345/345 [==============================] - 20s 57ms/step - loss: 0.5520 - accuracy: 0.8377 - val_loss: 0.3973 - val_accuracy: 0.8822\n",
      "Epoch 3/20\n",
      "345/345 [==============================] - 18s 53ms/step - loss: 0.4212 - accuracy: 0.8754 - val_loss: 0.3594 - val_accuracy: 0.9011\n",
      "Epoch 4/20\n",
      "345/345 [==============================] - 20s 58ms/step - loss: 0.3676 - accuracy: 0.8949 - val_loss: 0.3783 - val_accuracy: 0.8919\n",
      "Epoch 5/20\n",
      "345/345 [==============================] - 19s 56ms/step - loss: 0.3363 - accuracy: 0.8975 - val_loss: 0.2865 - val_accuracy: 0.9178\n",
      "Epoch 6/20\n",
      "345/345 [==============================] - 19s 56ms/step - loss: 0.2950 - accuracy: 0.9086 - val_loss: 0.3549 - val_accuracy: 0.8911\n",
      "Epoch 7/20\n",
      "345/345 [==============================] - 21s 60ms/step - loss: 0.2880 - accuracy: 0.9107 - val_loss: 0.2713 - val_accuracy: 0.9159\n",
      "Epoch 8/20\n",
      "345/345 [==============================] - 19s 54ms/step - loss: 0.2676 - accuracy: 0.9194 - val_loss: 0.2919 - val_accuracy: 0.9096\n",
      "Epoch 9/20\n",
      "345/345 [==============================] - 19s 55ms/step - loss: 0.2344 - accuracy: 0.9263 - val_loss: 0.2345 - val_accuracy: 0.9230\n",
      "Epoch 10/20\n",
      "345/345 [==============================] - 19s 56ms/step - loss: 0.2204 - accuracy: 0.9294 - val_loss: 0.2994 - val_accuracy: 0.8959\n",
      "Epoch 11/20\n",
      "345/345 [==============================] - 19s 55ms/step - loss: 0.2357 - accuracy: 0.9248 - val_loss: 0.2712 - val_accuracy: 0.9215\n",
      "Epoch 12/20\n",
      "345/345 [==============================] - 20s 59ms/step - loss: 0.1923 - accuracy: 0.9365 - val_loss: 0.2168 - val_accuracy: 0.9330\n",
      "Epoch 13/20\n",
      "345/345 [==============================] - 20s 57ms/step - loss: 0.1744 - accuracy: 0.9428 - val_loss: 0.2237 - val_accuracy: 0.9352\n",
      "Epoch 14/20\n",
      "345/345 [==============================] - 17s 50ms/step - loss: 0.1890 - accuracy: 0.9405 - val_loss: 0.2135 - val_accuracy: 0.9385\n",
      "Epoch 15/20\n",
      "345/345 [==============================] - 17s 48ms/step - loss: 0.1640 - accuracy: 0.9462 - val_loss: 0.2379 - val_accuracy: 0.9274\n",
      "Epoch 16/20\n",
      "345/345 [==============================] - 20s 57ms/step - loss: 0.1858 - accuracy: 0.9380 - val_loss: 0.2280 - val_accuracy: 0.9285\n",
      "Epoch 17/20\n",
      "345/345 [==============================] - 19s 54ms/step - loss: 0.1602 - accuracy: 0.9467 - val_loss: 0.2141 - val_accuracy: 0.9352\n",
      "Epoch 18/20\n",
      "345/345 [==============================] - 18s 53ms/step - loss: 0.1468 - accuracy: 0.9528 - val_loss: 0.2782 - val_accuracy: 0.9185\n",
      "Epoch 19/20\n",
      "345/345 [==============================] - 20s 57ms/step - loss: 0.1478 - accuracy: 0.9518 - val_loss: 0.2674 - val_accuracy: 0.9170\n",
      "Epoch 20/20\n",
      "345/345 [==============================] - 19s 54ms/step - loss: 0.1552 - accuracy: 0.9499 - val_loss: 0.2801 - val_accuracy: 0.9156\n",
      "108/108 [==============================] - 1s 10ms/step - loss: 0.2975 - accuracy: 0.9155\n",
      "loss is :  0.2974962890148163\n",
      "accuracy is :  0.9155257940292358\n"
     ]
    },
    {
     "name": "stderr",
     "output_type": "stream",
     "text": [
      "WARNING:absl:Found untraced functions such as _update_step_xla while saving (showing 1 of 1). These functions will not be directly callable after loading.\n"
     ]
    },
    {
     "name": "stdout",
     "output_type": "stream",
     "text": [
      "INFO:tensorflow:Assets written to: Image_ANN.model\\assets\n"
     ]
    },
    {
     "name": "stderr",
     "output_type": "stream",
     "text": [
      "INFO:tensorflow:Assets written to: Image_ANN.model\\assets\n"
     ]
    }
   ],
   "source": [
    "from tensorflow.keras.models import Sequential\n",
    "from tensorflow.keras.layers import Dense , Dropout , Activation , Flatten , Conv2D , MaxPooling2D\n",
    "# ANN model\n",
    "model = tf.keras.models.Sequential()\n",
    "# we will add some layers وبنبدء بالفلاترن لير لانها تعتبر الباداية ي معلم و بندخل هنا ال input shape \n",
    "# input_shape=(IMG_SIZE,IMG_SIZE)\n",
    "model.add(tf.keras.layers.Flatten())\n",
    "model.add(tf.keras.layers.Dense(256, activation='relu'))\n",
    "model.add(tf.keras.layers.Dense(128, activation=\"relu\"))\n",
    "model.add(tf.keras.layers.Dense(64, activation=\"relu\"))\n",
    "model.add(tf.keras.layers.Dense(17, activation=\"softmax\"))\n",
    "\n",
    "model.compile(loss=\"sparse_categorical_crossentropy\",\n",
    "             optimizer=\"adam\",\n",
    "             metrics=['accuracy'],\n",
    "             run_eagerly=True)\n",
    "\n",
    "history = model.fit(X_train,y_train,epochs=20,validation_data=(X_valid,y_valid))\n",
    "\n",
    "loss , acc = model.evaluate(X_test,y_test)\n",
    "\n",
    "print('loss is : ',loss)\n",
    "print('accuracy is : ',acc)\n",
    " \n",
    "model.save('Image_ANN.model')"
   ]
  },
  {
   "cell_type": "code",
   "execution_count": 14,
   "metadata": {},
   "outputs": [
    {
     "name": "stderr",
     "output_type": "stream",
     "text": [
      "WARNING:absl:Found untraced functions such as _update_step_xla while saving (showing 1 of 1). These functions will not be directly callable after loading.\n"
     ]
    },
    {
     "name": "stdout",
     "output_type": "stream",
     "text": [
      "INFO:tensorflow:Assets written to: Selected ANN image.model\\assets\n"
     ]
    },
    {
     "name": "stderr",
     "output_type": "stream",
     "text": [
      "INFO:tensorflow:Assets written to: Selected ANN image.model\\assets\n"
     ]
    }
   ],
   "source": [
    "model.save('Selected ANN image.model')"
   ]
  },
  {
   "cell_type": "code",
   "execution_count": 12,
   "metadata": {},
   "outputs": [
    {
     "data": {
      "image/png": "[encoded data removed]",
      "text/plain": [
       "<Figure size 432x288 with 1 Axes>"
      ]
     },
     "metadata": {
      "needs_background": "light"
     },
     "output_type": "display_data"
    },
    {
     "name": "stdout",
     "output_type": "stream",
     "text": [
      "1/1 [==============================] - 0s 23ms/step\n",
      "Prediction is  F\n"
     ]
    }
   ],
   "source": [
    "img_prd = []\n",
    "img_prd = cv2.imread(\"E:\\\\UNIVERSIY\\\\PROJECTS\\\\LEVEL_3\\\\First_Term\\\\SeLected\\dataset\\\\English\\\\test\\\\img042-00018.png\",cv2.IMREAD_GRAYSCALE)\n",
    "img = cv2.resize(img_prd,(IMG_SIZE,IMG_SIZE))\n",
    "plt.imshow(img_prd)\n",
    "plt.axis('off')\n",
    "plt.show()\n",
    "img_prd = np.array([img])\n",
    "img_prd = img_prd/255.\n",
    "result_class = model.predict(img_prd)\n",
    "prediction = np.argmax(result_class)\n",
    "print('Prediction is ',getclass(prediction))\n",
    "\n"
   ]
  },
  {
   "cell_type": "code",
   "execution_count": null,
   "metadata": {},
   "outputs": [],
   "source": []
  },
  {
   "cell_type": "code",
   "execution_count": null,
   "metadata": {},
   "outputs": [],
   "source": []
  }
 ],
 "metadata": {
  "kernelspec": {
   "display_name": "Python 3",
   "language": "python",
   "name": "python3"
  },
  "language_info": {
   "codemirror_mode": {
    "name": "ipython",
    "version": 3
   },
   "file_extension": ".py",
   "mimetype": "text/x-python",
   "name": "python",
   "nbconvert_exporter": "python",
   "pygments_lexer": "ipython3",
   "version": "3.8.5"
  }
 },
 "nbformat": 4,
 "nbformat_minor": 4
}
